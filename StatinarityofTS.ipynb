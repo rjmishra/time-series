{
 "cells": [
  {
   "cell_type": "markdown",
   "metadata": {},
   "source": [
    "# Stationary Time Series\n",
    "## Strict Stationarity\n",
    "A time series is said to be strict stationary if joint distribution of collection of random variables shifted in time remains same. It means\n",
    "$$ \\{x_t, x_{t_1}, x_{t_2}, ...... ,x_{t_k}\\} $$ \n",
    "have same joint distribution as\n",
    "$$ \\{x_{t_1+h}, x_{t_2+h}, ........ ,x_{t_k+h}\\} $$\n",
    "for all values of k > 0 and h.\n",
    "\n",
    "## Weak Stationarity\n",
    "A time series is said to be weak stationary if it has finite variance and\n",
    "    1. Mean function is constant and does not depend on time.\n",
    "    2. Covariance defined on s, t depends on s,t only through difference |s-t|.\n",
    "    \n",
    "Since mean function of stationary series is ndependent of time we can write \n",
    "$$ \\mu_t = \\mu $$\n",
    "\n",
    "and covariance function depends only on difference, we can utilize it for simplifyig notation, let s=t+h where h is lag.\n",
    "\n",
    "$$ \\gamma(s,t) = \\gamma(t+h, t) = E[(x_{t+h} - \\mu) , (x_{t} - \\mu)] = E[(x_h - \\mu)(x_0 - \\mu)] = \\gamma(h, 0) $$\n",
    "\n",
    "which is independent of t.\n",
    "\n",
    "### Autocovariance function of stationary process \n",
    "$$\\gamma(h) = E[(x_{t+h} - \\mu)(x_t - \\mu)] $$\n",
    "### Autocorrelation function of stationary process\n",
    "$$\\rho(h) = \\frac{\\gamma(t+h, t)} {\\sqrt{\\gamma(t+h, t+h)\\gamma(t,t)}} = \\frac{\\gamma(h)}{\\gamma(0)}$$\n",
    "\n"
   ]
  },
  {
   "cell_type": "markdown",
   "metadata": {},
   "source": [
    "## Examples\n",
    "### Stationarity of White Series\n",
    "$$ \\gamma(h) = E(w_{t=h} w_t) = \\sigma_w^2 $$\n",
    "if h =0, and 0 otherwise."
   ]
  },
  {
   "cell_type": "code",
   "execution_count": null,
   "metadata": {
    "collapsed": true
   },
   "outputs": [],
   "source": []
  }
 ],
 "metadata": {
  "kernelspec": {
   "display_name": "Python 3",
   "language": "python",
   "name": "python3"
  },
  "language_info": {
   "codemirror_mode": {
    "name": "ipython",
    "version": 3
   },
   "file_extension": ".py",
   "mimetype": "text/x-python",
   "name": "python",
   "nbconvert_exporter": "python",
   "pygments_lexer": "ipython3",
   "version": "3.6.0"
  }
 },
 "nbformat": 4,
 "nbformat_minor": 2
}
